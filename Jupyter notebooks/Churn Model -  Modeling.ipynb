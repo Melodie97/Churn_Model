{
 "cells": [
  {
   "cell_type": "markdown",
   "id": "bc9deea3",
   "metadata": {},
   "source": [
    "## Modelling"
   ]
  },
  {
   "cell_type": "code",
   "execution_count": 1,
   "id": "bc0b1307",
   "metadata": {},
   "outputs": [],
   "source": [
    "#import Libraries\n",
    "import warnings\n",
    "warnings.filterwarnings(\"ignore\")\n",
    "import pyodbc\n",
    "import numpy as np\n",
    "import pandas as pd\n",
    "import matplotlib.pyplot as plt\n",
    "import seaborn as sns\n",
    "%matplotlib inline"
   ]
  },
  {
   "cell_type": "code",
   "execution_count": 2,
   "id": "09fd2599",
   "metadata": {},
   "outputs": [],
   "source": [
    "churn_data_raw = pd.read_csv('data/churn_data_fe.csv')  #data with null values dropped\n",
    "churn_data_raw1 = pd.read_csv('data/churn_data_fe1.csv') #data with null values imputed"
   ]
  },
  {
   "cell_type": "code",
   "execution_count": 3,
   "id": "348666da",
   "metadata": {},
   "outputs": [],
   "source": [
    "churn_data = churn_data_raw.copy()\n",
    "churn_data1 = churn_data_raw1.copy()"
   ]
  },
  {
   "cell_type": "code",
   "execution_count": 4,
   "id": "623a66a7",
   "metadata": {},
   "outputs": [
    {
     "data": {
      "text/plain": [
       "((2546918, 22), (2628715, 22))"
      ]
     },
     "execution_count": 4,
     "metadata": {},
     "output_type": "execute_result"
    }
   ],
   "source": [
    "churn_data.shape, churn_data1.shape"
   ]
  },
  {
   "cell_type": "code",
   "execution_count": 5,
   "id": "3d12de5a",
   "metadata": {},
   "outputs": [
    {
     "data": {
      "text/html": [
       "<div>\n",
       "<style scoped>\n",
       "    .dataframe tbody tr th:only-of-type {\n",
       "        vertical-align: middle;\n",
       "    }\n",
       "\n",
       "    .dataframe tbody tr th {\n",
       "        vertical-align: top;\n",
       "    }\n",
       "\n",
       "    .dataframe thead th {\n",
       "        text-align: right;\n",
       "    }\n",
       "</style>\n",
       "<table border=\"1\" class=\"dataframe\">\n",
       "  <thead>\n",
       "    <tr style=\"text-align: right;\">\n",
       "      <th></th>\n",
       "      <th>customer_id</th>\n",
       "      <th>mnth1</th>\n",
       "      <th>mnth2</th>\n",
       "      <th>mnth3</th>\n",
       "      <th>mnth4</th>\n",
       "      <th>mnth5</th>\n",
       "      <th>mnth6</th>\n",
       "      <th>age</th>\n",
       "      <th>card</th>\n",
       "      <th>ussd</th>\n",
       "      <th>...</th>\n",
       "      <th>customer_segment_freq</th>\n",
       "      <th>generation_freq</th>\n",
       "      <th>occupation_freq</th>\n",
       "      <th>region_name_freq</th>\n",
       "      <th>Active</th>\n",
       "      <th>Inactive</th>\n",
       "      <th>F</th>\n",
       "      <th>M</th>\n",
       "      <th>avg_5mnths_cnt</th>\n",
       "      <th>5mnths_cnt_std</th>\n",
       "    </tr>\n",
       "  </thead>\n",
       "  <tbody>\n",
       "    <tr>\n",
       "      <th>0</th>\n",
       "      <td>71</td>\n",
       "      <td>0</td>\n",
       "      <td>24</td>\n",
       "      <td>0</td>\n",
       "      <td>1</td>\n",
       "      <td>0</td>\n",
       "      <td>0</td>\n",
       "      <td>45</td>\n",
       "      <td>1</td>\n",
       "      <td>0</td>\n",
       "      <td>...</td>\n",
       "      <td>530530</td>\n",
       "      <td>575640</td>\n",
       "      <td>468611</td>\n",
       "      <td>532377</td>\n",
       "      <td>0</td>\n",
       "      <td>1</td>\n",
       "      <td>0</td>\n",
       "      <td>1</td>\n",
       "      <td>5</td>\n",
       "      <td>10.630146</td>\n",
       "    </tr>\n",
       "    <tr>\n",
       "      <th>1</th>\n",
       "      <td>112</td>\n",
       "      <td>8</td>\n",
       "      <td>1</td>\n",
       "      <td>14</td>\n",
       "      <td>22</td>\n",
       "      <td>3</td>\n",
       "      <td>0</td>\n",
       "      <td>83</td>\n",
       "      <td>1</td>\n",
       "      <td>0</td>\n",
       "      <td>...</td>\n",
       "      <td>530530</td>\n",
       "      <td>155530</td>\n",
       "      <td>468611</td>\n",
       "      <td>532377</td>\n",
       "      <td>0</td>\n",
       "      <td>1</td>\n",
       "      <td>0</td>\n",
       "      <td>1</td>\n",
       "      <td>9</td>\n",
       "      <td>8.544004</td>\n",
       "    </tr>\n",
       "    <tr>\n",
       "      <th>2</th>\n",
       "      <td>378</td>\n",
       "      <td>176</td>\n",
       "      <td>208</td>\n",
       "      <td>166</td>\n",
       "      <td>236</td>\n",
       "      <td>288</td>\n",
       "      <td>184</td>\n",
       "      <td>70</td>\n",
       "      <td>1</td>\n",
       "      <td>0</td>\n",
       "      <td>...</td>\n",
       "      <td>856550</td>\n",
       "      <td>155530</td>\n",
       "      <td>468611</td>\n",
       "      <td>897808</td>\n",
       "      <td>1</td>\n",
       "      <td>0</td>\n",
       "      <td>0</td>\n",
       "      <td>1</td>\n",
       "      <td>214</td>\n",
       "      <td>49.345719</td>\n",
       "    </tr>\n",
       "    <tr>\n",
       "      <th>3</th>\n",
       "      <td>465</td>\n",
       "      <td>29</td>\n",
       "      <td>19</td>\n",
       "      <td>23</td>\n",
       "      <td>35</td>\n",
       "      <td>59</td>\n",
       "      <td>38</td>\n",
       "      <td>60</td>\n",
       "      <td>0</td>\n",
       "      <td>1</td>\n",
       "      <td>...</td>\n",
       "      <td>435628</td>\n",
       "      <td>155530</td>\n",
       "      <td>468611</td>\n",
       "      <td>897808</td>\n",
       "      <td>1</td>\n",
       "      <td>0</td>\n",
       "      <td>0</td>\n",
       "      <td>1</td>\n",
       "      <td>33</td>\n",
       "      <td>15.748016</td>\n",
       "    </tr>\n",
       "    <tr>\n",
       "      <th>4</th>\n",
       "      <td>532</td>\n",
       "      <td>45</td>\n",
       "      <td>9</td>\n",
       "      <td>16</td>\n",
       "      <td>18</td>\n",
       "      <td>45</td>\n",
       "      <td>20</td>\n",
       "      <td>69</td>\n",
       "      <td>0</td>\n",
       "      <td>1</td>\n",
       "      <td>...</td>\n",
       "      <td>856550</td>\n",
       "      <td>155530</td>\n",
       "      <td>272198</td>\n",
       "      <td>897808</td>\n",
       "      <td>1</td>\n",
       "      <td>0</td>\n",
       "      <td>0</td>\n",
       "      <td>1</td>\n",
       "      <td>26</td>\n",
       "      <td>17.117243</td>\n",
       "    </tr>\n",
       "  </tbody>\n",
       "</table>\n",
       "<p>5 rows × 22 columns</p>\n",
       "</div>"
      ],
      "text/plain": [
       "   customer_id  mnth1  mnth2  mnth3  mnth4  mnth5  mnth6  age  card  ussd  \\\n",
       "0           71      0     24      0      1      0      0   45     1     0   \n",
       "1          112      8      1     14     22      3      0   83     1     0   \n",
       "2          378    176    208    166    236    288    184   70     1     0   \n",
       "3          465     29     19     23     35     59     38   60     0     1   \n",
       "4          532     45      9     16     18     45     20   69     0     1   \n",
       "\n",
       "   ...  customer_segment_freq  generation_freq  occupation_freq  \\\n",
       "0  ...                 530530           575640           468611   \n",
       "1  ...                 530530           155530           468611   \n",
       "2  ...                 856550           155530           468611   \n",
       "3  ...                 435628           155530           468611   \n",
       "4  ...                 856550           155530           272198   \n",
       "\n",
       "   region_name_freq  Active  Inactive  F  M  avg_5mnths_cnt  5mnths_cnt_std  \n",
       "0            532377       0         1  0  1               5       10.630146  \n",
       "1            532377       0         1  0  1               9        8.544004  \n",
       "2            897808       1         0  0  1             214       49.345719  \n",
       "3            897808       1         0  0  1              33       15.748016  \n",
       "4            897808       1         0  0  1              26       17.117243  \n",
       "\n",
       "[5 rows x 22 columns]"
      ]
     },
     "execution_count": 5,
     "metadata": {},
     "output_type": "execute_result"
    }
   ],
   "source": [
    "churn_data.head()"
   ]
  },
  {
   "cell_type": "code",
   "execution_count": 6,
   "id": "a483b81c",
   "metadata": {},
   "outputs": [
    {
     "data": {
      "text/html": [
       "<div>\n",
       "<style scoped>\n",
       "    .dataframe tbody tr th:only-of-type {\n",
       "        vertical-align: middle;\n",
       "    }\n",
       "\n",
       "    .dataframe tbody tr th {\n",
       "        vertical-align: top;\n",
       "    }\n",
       "\n",
       "    .dataframe thead th {\n",
       "        text-align: right;\n",
       "    }\n",
       "</style>\n",
       "<table border=\"1\" class=\"dataframe\">\n",
       "  <thead>\n",
       "    <tr style=\"text-align: right;\">\n",
       "      <th></th>\n",
       "      <th>customer_id</th>\n",
       "      <th>mnth1</th>\n",
       "      <th>mnth2</th>\n",
       "      <th>mnth3</th>\n",
       "      <th>mnth4</th>\n",
       "      <th>mnth5</th>\n",
       "      <th>mnth6</th>\n",
       "      <th>age</th>\n",
       "      <th>card</th>\n",
       "      <th>ussd</th>\n",
       "      <th>...</th>\n",
       "      <th>customer_segment_freq</th>\n",
       "      <th>generation_freq</th>\n",
       "      <th>occupation_freq</th>\n",
       "      <th>region_name_freq</th>\n",
       "      <th>Active</th>\n",
       "      <th>Inactive</th>\n",
       "      <th>F</th>\n",
       "      <th>M</th>\n",
       "      <th>avg_5mnths_cnt</th>\n",
       "      <th>5mnths_cnt_std</th>\n",
       "    </tr>\n",
       "  </thead>\n",
       "  <tbody>\n",
       "    <tr>\n",
       "      <th>0</th>\n",
       "      <td>71</td>\n",
       "      <td>0</td>\n",
       "      <td>24</td>\n",
       "      <td>0</td>\n",
       "      <td>1</td>\n",
       "      <td>0</td>\n",
       "      <td>0</td>\n",
       "      <td>45</td>\n",
       "      <td>1</td>\n",
       "      <td>0</td>\n",
       "      <td>...</td>\n",
       "      <td>550031</td>\n",
       "      <td>576059</td>\n",
       "      <td>468824</td>\n",
       "      <td>559189</td>\n",
       "      <td>0</td>\n",
       "      <td>1</td>\n",
       "      <td>0</td>\n",
       "      <td>1</td>\n",
       "      <td>5</td>\n",
       "      <td>10.630146</td>\n",
       "    </tr>\n",
       "    <tr>\n",
       "      <th>1</th>\n",
       "      <td>112</td>\n",
       "      <td>8</td>\n",
       "      <td>1</td>\n",
       "      <td>14</td>\n",
       "      <td>22</td>\n",
       "      <td>3</td>\n",
       "      <td>0</td>\n",
       "      <td>83</td>\n",
       "      <td>1</td>\n",
       "      <td>0</td>\n",
       "      <td>...</td>\n",
       "      <td>550031</td>\n",
       "      <td>156186</td>\n",
       "      <td>468824</td>\n",
       "      <td>559189</td>\n",
       "      <td>0</td>\n",
       "      <td>1</td>\n",
       "      <td>0</td>\n",
       "      <td>1</td>\n",
       "      <td>9</td>\n",
       "      <td>8.544004</td>\n",
       "    </tr>\n",
       "    <tr>\n",
       "      <th>2</th>\n",
       "      <td>378</td>\n",
       "      <td>176</td>\n",
       "      <td>208</td>\n",
       "      <td>166</td>\n",
       "      <td>236</td>\n",
       "      <td>288</td>\n",
       "      <td>184</td>\n",
       "      <td>70</td>\n",
       "      <td>1</td>\n",
       "      <td>0</td>\n",
       "      <td>...</td>\n",
       "      <td>882967</td>\n",
       "      <td>156186</td>\n",
       "      <td>468824</td>\n",
       "      <td>922270</td>\n",
       "      <td>1</td>\n",
       "      <td>0</td>\n",
       "      <td>0</td>\n",
       "      <td>1</td>\n",
       "      <td>214</td>\n",
       "      <td>49.345719</td>\n",
       "    </tr>\n",
       "    <tr>\n",
       "      <th>3</th>\n",
       "      <td>465</td>\n",
       "      <td>29</td>\n",
       "      <td>19</td>\n",
       "      <td>23</td>\n",
       "      <td>35</td>\n",
       "      <td>59</td>\n",
       "      <td>38</td>\n",
       "      <td>60</td>\n",
       "      <td>0</td>\n",
       "      <td>1</td>\n",
       "      <td>...</td>\n",
       "      <td>459462</td>\n",
       "      <td>156186</td>\n",
       "      <td>468824</td>\n",
       "      <td>922270</td>\n",
       "      <td>1</td>\n",
       "      <td>0</td>\n",
       "      <td>0</td>\n",
       "      <td>1</td>\n",
       "      <td>33</td>\n",
       "      <td>15.748016</td>\n",
       "    </tr>\n",
       "    <tr>\n",
       "      <th>4</th>\n",
       "      <td>532</td>\n",
       "      <td>45</td>\n",
       "      <td>9</td>\n",
       "      <td>16</td>\n",
       "      <td>18</td>\n",
       "      <td>45</td>\n",
       "      <td>20</td>\n",
       "      <td>69</td>\n",
       "      <td>0</td>\n",
       "      <td>1</td>\n",
       "      <td>...</td>\n",
       "      <td>882967</td>\n",
       "      <td>156186</td>\n",
       "      <td>272509</td>\n",
       "      <td>922270</td>\n",
       "      <td>1</td>\n",
       "      <td>0</td>\n",
       "      <td>0</td>\n",
       "      <td>1</td>\n",
       "      <td>26</td>\n",
       "      <td>17.117243</td>\n",
       "    </tr>\n",
       "  </tbody>\n",
       "</table>\n",
       "<p>5 rows × 22 columns</p>\n",
       "</div>"
      ],
      "text/plain": [
       "   customer_id  mnth1  mnth2  mnth3  mnth4  mnth5  mnth6  age  card  ussd  \\\n",
       "0           71      0     24      0      1      0      0   45     1     0   \n",
       "1          112      8      1     14     22      3      0   83     1     0   \n",
       "2          378    176    208    166    236    288    184   70     1     0   \n",
       "3          465     29     19     23     35     59     38   60     0     1   \n",
       "4          532     45      9     16     18     45     20   69     0     1   \n",
       "\n",
       "   ...  customer_segment_freq  generation_freq  occupation_freq  \\\n",
       "0  ...                 550031           576059           468824   \n",
       "1  ...                 550031           156186           468824   \n",
       "2  ...                 882967           156186           468824   \n",
       "3  ...                 459462           156186           468824   \n",
       "4  ...                 882967           156186           272509   \n",
       "\n",
       "   region_name_freq  Active  Inactive  F  M  avg_5mnths_cnt  5mnths_cnt_std  \n",
       "0            559189       0         1  0  1               5       10.630146  \n",
       "1            559189       0         1  0  1               9        8.544004  \n",
       "2            922270       1         0  0  1             214       49.345719  \n",
       "3            922270       1         0  0  1              33       15.748016  \n",
       "4            922270       1         0  0  1              26       17.117243  \n",
       "\n",
       "[5 rows x 22 columns]"
      ]
     },
     "execution_count": 6,
     "metadata": {},
     "output_type": "execute_result"
    }
   ],
   "source": [
    "churn_data1.head()"
   ]
  },
  {
   "cell_type": "code",
   "execution_count": 7,
   "id": "1bc8499a",
   "metadata": {},
   "outputs": [],
   "source": [
    "#drop customer_ID and mnth6(April) columns - because when predicting new data the 6th month won't be known\n",
    "churn_data.drop(columns=['customer_id', 'mnth6'], inplace=True) \n",
    "churn_data1.drop(columns=['customer_id', 'mnth6'], inplace=True) "
   ]
  },
  {
   "cell_type": "code",
   "execution_count": 8,
   "id": "8688a0db",
   "metadata": {},
   "outputs": [
    {
     "data": {
      "text/html": [
       "<div>\n",
       "<style scoped>\n",
       "    .dataframe tbody tr th:only-of-type {\n",
       "        vertical-align: middle;\n",
       "    }\n",
       "\n",
       "    .dataframe tbody tr th {\n",
       "        vertical-align: top;\n",
       "    }\n",
       "\n",
       "    .dataframe thead th {\n",
       "        text-align: right;\n",
       "    }\n",
       "</style>\n",
       "<table border=\"1\" class=\"dataframe\">\n",
       "  <thead>\n",
       "    <tr style=\"text-align: right;\">\n",
       "      <th></th>\n",
       "      <th>mnth1</th>\n",
       "      <th>mnth2</th>\n",
       "      <th>mnth3</th>\n",
       "      <th>mnth4</th>\n",
       "      <th>mnth5</th>\n",
       "      <th>age</th>\n",
       "      <th>card</th>\n",
       "      <th>ussd</th>\n",
       "      <th>newmobile</th>\n",
       "      <th>churn</th>\n",
       "      <th>customer_segment_freq</th>\n",
       "      <th>generation_freq</th>\n",
       "      <th>occupation_freq</th>\n",
       "      <th>region_name_freq</th>\n",
       "      <th>Active</th>\n",
       "      <th>Inactive</th>\n",
       "      <th>F</th>\n",
       "      <th>M</th>\n",
       "      <th>avg_5mnths_cnt</th>\n",
       "      <th>5mnths_cnt_std</th>\n",
       "    </tr>\n",
       "  </thead>\n",
       "  <tbody>\n",
       "    <tr>\n",
       "      <th>0</th>\n",
       "      <td>0</td>\n",
       "      <td>24</td>\n",
       "      <td>0</td>\n",
       "      <td>1</td>\n",
       "      <td>0</td>\n",
       "      <td>45</td>\n",
       "      <td>1</td>\n",
       "      <td>0</td>\n",
       "      <td>1</td>\n",
       "      <td>1</td>\n",
       "      <td>530530</td>\n",
       "      <td>575640</td>\n",
       "      <td>468611</td>\n",
       "      <td>532377</td>\n",
       "      <td>0</td>\n",
       "      <td>1</td>\n",
       "      <td>0</td>\n",
       "      <td>1</td>\n",
       "      <td>5</td>\n",
       "      <td>10.630146</td>\n",
       "    </tr>\n",
       "    <tr>\n",
       "      <th>1</th>\n",
       "      <td>8</td>\n",
       "      <td>1</td>\n",
       "      <td>14</td>\n",
       "      <td>22</td>\n",
       "      <td>3</td>\n",
       "      <td>83</td>\n",
       "      <td>1</td>\n",
       "      <td>0</td>\n",
       "      <td>0</td>\n",
       "      <td>0</td>\n",
       "      <td>530530</td>\n",
       "      <td>155530</td>\n",
       "      <td>468611</td>\n",
       "      <td>532377</td>\n",
       "      <td>0</td>\n",
       "      <td>1</td>\n",
       "      <td>0</td>\n",
       "      <td>1</td>\n",
       "      <td>9</td>\n",
       "      <td>8.544004</td>\n",
       "    </tr>\n",
       "    <tr>\n",
       "      <th>2</th>\n",
       "      <td>176</td>\n",
       "      <td>208</td>\n",
       "      <td>166</td>\n",
       "      <td>236</td>\n",
       "      <td>288</td>\n",
       "      <td>70</td>\n",
       "      <td>1</td>\n",
       "      <td>0</td>\n",
       "      <td>1</td>\n",
       "      <td>0</td>\n",
       "      <td>856550</td>\n",
       "      <td>155530</td>\n",
       "      <td>468611</td>\n",
       "      <td>897808</td>\n",
       "      <td>1</td>\n",
       "      <td>0</td>\n",
       "      <td>0</td>\n",
       "      <td>1</td>\n",
       "      <td>214</td>\n",
       "      <td>49.345719</td>\n",
       "    </tr>\n",
       "    <tr>\n",
       "      <th>3</th>\n",
       "      <td>29</td>\n",
       "      <td>19</td>\n",
       "      <td>23</td>\n",
       "      <td>35</td>\n",
       "      <td>59</td>\n",
       "      <td>60</td>\n",
       "      <td>0</td>\n",
       "      <td>1</td>\n",
       "      <td>0</td>\n",
       "      <td>0</td>\n",
       "      <td>435628</td>\n",
       "      <td>155530</td>\n",
       "      <td>468611</td>\n",
       "      <td>897808</td>\n",
       "      <td>1</td>\n",
       "      <td>0</td>\n",
       "      <td>0</td>\n",
       "      <td>1</td>\n",
       "      <td>33</td>\n",
       "      <td>15.748016</td>\n",
       "    </tr>\n",
       "    <tr>\n",
       "      <th>4</th>\n",
       "      <td>45</td>\n",
       "      <td>9</td>\n",
       "      <td>16</td>\n",
       "      <td>18</td>\n",
       "      <td>45</td>\n",
       "      <td>69</td>\n",
       "      <td>0</td>\n",
       "      <td>1</td>\n",
       "      <td>0</td>\n",
       "      <td>0</td>\n",
       "      <td>856550</td>\n",
       "      <td>155530</td>\n",
       "      <td>272198</td>\n",
       "      <td>897808</td>\n",
       "      <td>1</td>\n",
       "      <td>0</td>\n",
       "      <td>0</td>\n",
       "      <td>1</td>\n",
       "      <td>26</td>\n",
       "      <td>17.117243</td>\n",
       "    </tr>\n",
       "  </tbody>\n",
       "</table>\n",
       "</div>"
      ],
      "text/plain": [
       "   mnth1  mnth2  mnth3  mnth4  mnth5  age  card  ussd  newmobile  churn  \\\n",
       "0      0     24      0      1      0   45     1     0          1      1   \n",
       "1      8      1     14     22      3   83     1     0          0      0   \n",
       "2    176    208    166    236    288   70     1     0          1      0   \n",
       "3     29     19     23     35     59   60     0     1          0      0   \n",
       "4     45      9     16     18     45   69     0     1          0      0   \n",
       "\n",
       "   customer_segment_freq  generation_freq  occupation_freq  region_name_freq  \\\n",
       "0                 530530           575640           468611            532377   \n",
       "1                 530530           155530           468611            532377   \n",
       "2                 856550           155530           468611            897808   \n",
       "3                 435628           155530           468611            897808   \n",
       "4                 856550           155530           272198            897808   \n",
       "\n",
       "   Active  Inactive  F  M  avg_5mnths_cnt  5mnths_cnt_std  \n",
       "0       0         1  0  1               5       10.630146  \n",
       "1       0         1  0  1               9        8.544004  \n",
       "2       1         0  0  1             214       49.345719  \n",
       "3       1         0  0  1              33       15.748016  \n",
       "4       1         0  0  1              26       17.117243  "
      ]
     },
     "execution_count": 8,
     "metadata": {},
     "output_type": "execute_result"
    }
   ],
   "source": [
    "churn_data.head()"
   ]
  },
  {
   "cell_type": "code",
   "execution_count": 9,
   "id": "e54bcb16",
   "metadata": {},
   "outputs": [
    {
     "data": {
      "image/png": "[encoded data removed]",
      "text/plain": [
       "<Figure size 432x288 with 1 Axes>"
      ]
     },
     "metadata": {
      "needs_background": "light"
     },
     "output_type": "display_data"
    }
   ],
   "source": [
    "sns.countplot('churn', data=churn_data);"
   ]
  },
  {
   "cell_type": "markdown",
   "id": "c2b010f3",
   "metadata": {},
   "source": [
    "### Model 1 - Base-Line"
   ]
  },
  {
   "cell_type": "code",
   "execution_count": 10,
   "id": "21b00bd5",
   "metadata": {},
   "outputs": [],
   "source": [
    "X = churn_data.drop('churn', axis =1)\n",
    "X1 = churn_data1.drop('churn', axis =1)\n",
    "\n",
    "y = churn_data['churn']\n",
    "y1 = churn_data1['churn']"
   ]
  },
  {
   "cell_type": "code",
   "execution_count": 11,
   "id": "4f743287",
   "metadata": {},
   "outputs": [
    {
     "data": {
      "text/plain": [
       "(2546918, 19)"
      ]
     },
     "execution_count": 11,
     "metadata": {},
     "output_type": "execute_result"
    }
   ],
   "source": [
    "X.shape"
   ]
  },
  {
   "cell_type": "code",
   "execution_count": 12,
   "id": "d3119f2d",
   "metadata": {},
   "outputs": [],
   "source": [
    "from sklearn.model_selection import train_test_split\n",
    "\n",
    "X_train, X_test, y_train, y_test = train_test_split(X, y, test_size = 0.30, random_state = 2, stratify = y)\n",
    "X1_train, X1_test, y1_train, y1_test = train_test_split(X1, y1, test_size = 0.30, random_state = 2, stratify = y1)"
   ]
  },
  {
   "cell_type": "code",
   "execution_count": 13,
   "id": "82133981",
   "metadata": {},
   "outputs": [],
   "source": [
    "from sklearn.ensemble import RandomForestClassifier\n",
    "from sklearn.metrics import accuracy_score,confusion_matrix,roc_auc_score,classification_report"
   ]
  },
  {
   "cell_type": "code",
   "execution_count": 14,
   "id": "415e8d5f",
   "metadata": {},
   "outputs": [
    {
     "data": {
      "text/plain": [
       "RandomForestClassifier(random_state=42)"
      ]
     },
     "execution_count": 14,
     "metadata": {},
     "output_type": "execute_result"
    }
   ],
   "source": [
    "rfc = RandomForestClassifier(random_state=42) #training on first model\n",
    "rfc.fit(X_train, y_train)"
   ]
  },
  {
   "cell_type": "code",
   "execution_count": 15,
   "id": "bfa0aad6",
   "metadata": {},
   "outputs": [
    {
     "data": {
      "text/plain": [
       "RandomForestClassifier(random_state=42)"
      ]
     },
     "execution_count": 15,
     "metadata": {},
     "output_type": "execute_result"
    }
   ],
   "source": [
    "rfc1 = RandomForestClassifier(random_state=42) #training on second model\n",
    "rfc1.fit(X1_train, y1_train)"
   ]
  },
  {
   "cell_type": "code",
   "execution_count": 16,
   "id": "0134220d",
   "metadata": {},
   "outputs": [],
   "source": [
    "pred = rfc.predict(X_test)"
   ]
  },
  {
   "cell_type": "code",
   "execution_count": 17,
   "id": "1d47d911",
   "metadata": {},
   "outputs": [],
   "source": [
    "pred1 = rfc1.predict(X1_test)"
   ]
  },
  {
   "cell_type": "code",
   "execution_count": 18,
   "id": "2452f493",
   "metadata": {},
   "outputs": [
    {
     "data": {
      "text/html": [
       "<div>\n",
       "<style scoped>\n",
       "    .dataframe tbody tr th:only-of-type {\n",
       "        vertical-align: middle;\n",
       "    }\n",
       "\n",
       "    .dataframe tbody tr th {\n",
       "        vertical-align: top;\n",
       "    }\n",
       "\n",
       "    .dataframe thead th {\n",
       "        text-align: right;\n",
       "    }\n",
       "</style>\n",
       "<table border=\"1\" class=\"dataframe\">\n",
       "  <thead>\n",
       "    <tr style=\"text-align: right;\">\n",
       "      <th></th>\n",
       "      <th>Pred: False</th>\n",
       "      <th>Pred: True</th>\n",
       "    </tr>\n",
       "  </thead>\n",
       "  <tbody>\n",
       "    <tr>\n",
       "      <th>Actual: False</th>\n",
       "      <td>686113</td>\n",
       "      <td>10041</td>\n",
       "    </tr>\n",
       "    <tr>\n",
       "      <th>Actual: True</th>\n",
       "      <td>10402</td>\n",
       "      <td>57520</td>\n",
       "    </tr>\n",
       "  </tbody>\n",
       "</table>\n",
       "</div>"
      ],
      "text/plain": [
       "               Pred: False  Pred: True\n",
       "Actual: False       686113       10041\n",
       "Actual: True         10402       57520"
      ]
     },
     "execution_count": 18,
     "metadata": {},
     "output_type": "execute_result"
    }
   ],
   "source": [
    "#confusion matrix for first model\n",
    "pd.DataFrame(confusion_matrix(y_test, pred), \n",
    "             index = ['Actual: False', 'Actual: True'],\n",
    "             columns = ['Pred: False', 'Pred: True'])"
   ]
  },
  {
   "cell_type": "code",
   "execution_count": 19,
   "id": "280b1401",
   "metadata": {},
   "outputs": [
    {
     "data": {
      "text/html": [
       "<div>\n",
       "<style scoped>\n",
       "    .dataframe tbody tr th:only-of-type {\n",
       "        vertical-align: middle;\n",
       "    }\n",
       "\n",
       "    .dataframe tbody tr th {\n",
       "        vertical-align: top;\n",
       "    }\n",
       "\n",
       "    .dataframe thead th {\n",
       "        text-align: right;\n",
       "    }\n",
       "</style>\n",
       "<table border=\"1\" class=\"dataframe\">\n",
       "  <thead>\n",
       "    <tr style=\"text-align: right;\">\n",
       "      <th></th>\n",
       "      <th>Pred: False</th>\n",
       "      <th>Pred: True</th>\n",
       "    </tr>\n",
       "  </thead>\n",
       "  <tbody>\n",
       "    <tr>\n",
       "      <th>Actual: False</th>\n",
       "      <td>706208</td>\n",
       "      <td>10758</td>\n",
       "    </tr>\n",
       "    <tr>\n",
       "      <th>Actual: True</th>\n",
       "      <td>10972</td>\n",
       "      <td>60677</td>\n",
       "    </tr>\n",
       "  </tbody>\n",
       "</table>\n",
       "</div>"
      ],
      "text/plain": [
       "               Pred: False  Pred: True\n",
       "Actual: False       706208       10758\n",
       "Actual: True         10972       60677"
      ]
     },
     "execution_count": 19,
     "metadata": {},
     "output_type": "execute_result"
    }
   ],
   "source": [
    "#confusion matrix for second model\n",
    "pd.DataFrame(confusion_matrix(y1_test, pred1), \n",
    "             index = ['Actual: False', 'Actual: True'],\n",
    "             columns = ['Pred: False', 'Pred: True'])"
   ]
  },
  {
   "cell_type": "code",
   "execution_count": 20,
   "id": "97e49ce4",
   "metadata": {},
   "outputs": [
    {
     "name": "stdout",
     "output_type": "stream",
     "text": [
      "              precision    recall  f1-score   support\n",
      "\n",
      "           0       0.99      0.99      0.99    696154\n",
      "           1       0.85      0.85      0.85     67922\n",
      "\n",
      "    accuracy                           0.97    764076\n",
      "   macro avg       0.92      0.92      0.92    764076\n",
      "weighted avg       0.97      0.97      0.97    764076\n",
      "\n"
     ]
    }
   ],
   "source": [
    "print(classification_report(y_test, pred))"
   ]
  },
  {
   "cell_type": "code",
   "execution_count": 21,
   "id": "f61573e9",
   "metadata": {},
   "outputs": [
    {
     "name": "stdout",
     "output_type": "stream",
     "text": [
      "              precision    recall  f1-score   support\n",
      "\n",
      "           0       0.98      0.98      0.98    716966\n",
      "           1       0.85      0.85      0.85     71649\n",
      "\n",
      "    accuracy                           0.97    788615\n",
      "   macro avg       0.92      0.92      0.92    788615\n",
      "weighted avg       0.97      0.97      0.97    788615\n",
      "\n"
     ]
    }
   ],
   "source": [
    "print(classification_report(y1_test, pred1))"
   ]
  },
  {
   "cell_type": "markdown",
   "id": "fa5134ac",
   "metadata": {},
   "source": [
    "It seems there's no much difference in the two data from the confusion matrix. So we'll stick to using the model that has it's null values dropped"
   ]
  },
  {
   "cell_type": "markdown",
   "id": "c3ef7cc0",
   "metadata": {},
   "source": [
    "##### Predicting train"
   ]
  },
  {
   "cell_type": "code",
   "execution_count": 22,
   "id": "57b0c66c",
   "metadata": {},
   "outputs": [],
   "source": [
    "t_pred = rfc.predict(X_train)"
   ]
  },
  {
   "cell_type": "code",
   "execution_count": 23,
   "id": "1844a5d5",
   "metadata": {
    "scrolled": true
   },
   "outputs": [
    {
     "data": {
      "text/html": [
       "<div>\n",
       "<style scoped>\n",
       "    .dataframe tbody tr th:only-of-type {\n",
       "        vertical-align: middle;\n",
       "    }\n",
       "\n",
       "    .dataframe tbody tr th {\n",
       "        vertical-align: top;\n",
       "    }\n",
       "\n",
       "    .dataframe thead th {\n",
       "        text-align: right;\n",
       "    }\n",
       "</style>\n",
       "<table border=\"1\" class=\"dataframe\">\n",
       "  <thead>\n",
       "    <tr style=\"text-align: right;\">\n",
       "      <th></th>\n",
       "      <th>Pred: False</th>\n",
       "      <th>Pred: True</th>\n",
       "    </tr>\n",
       "  </thead>\n",
       "  <tbody>\n",
       "    <tr>\n",
       "      <th>Actual: False</th>\n",
       "      <td>1623341</td>\n",
       "      <td>1016</td>\n",
       "    </tr>\n",
       "    <tr>\n",
       "      <th>Actual: True</th>\n",
       "      <td>281</td>\n",
       "      <td>158204</td>\n",
       "    </tr>\n",
       "  </tbody>\n",
       "</table>\n",
       "</div>"
      ],
      "text/plain": [
       "               Pred: False  Pred: True\n",
       "Actual: False      1623341        1016\n",
       "Actual: True           281      158204"
      ]
     },
     "execution_count": 23,
     "metadata": {},
     "output_type": "execute_result"
    }
   ],
   "source": [
    "pd.DataFrame(confusion_matrix(y_train, t_pred), \n",
    "             index = ['Actual: False', 'Actual: True'],\n",
    "             columns = ['Pred: False', 'Pred: True'])"
   ]
  },
  {
   "cell_type": "code",
   "execution_count": 24,
   "id": "6b16af24",
   "metadata": {},
   "outputs": [
    {
     "name": "stdout",
     "output_type": "stream",
     "text": [
      "              precision    recall  f1-score   support\n",
      "\n",
      "           0       1.00      1.00      1.00   1624357\n",
      "           1       0.99      1.00      1.00    158485\n",
      "\n",
      "    accuracy                           1.00   1782842\n",
      "   macro avg       1.00      1.00      1.00   1782842\n",
      "weighted avg       1.00      1.00      1.00   1782842\n",
      "\n"
     ]
    }
   ],
   "source": [
    "print(classification_report(y_train, t_pred))"
   ]
  },
  {
   "cell_type": "markdown",
   "id": "77b3311d",
   "metadata": {},
   "source": [
    "The model is overfitting, we'll try to deal with that as we go on "
   ]
  },
  {
   "cell_type": "markdown",
   "id": "c4e1971a",
   "metadata": {},
   "source": [
    "#### Visualizing featurres of importance"
   ]
  },
  {
   "cell_type": "code",
   "execution_count": 22,
   "id": "69de417a",
   "metadata": {},
   "outputs": [
    {
     "data": {
      "image/png": "[encoded data removed]",
      "text/plain": [
       "<Figure size 1440x720 with 1 Axes>"
      ]
     },
     "metadata": {
      "needs_background": "light"
     },
     "output_type": "display_data"
    }
   ],
   "source": [
    "fea_imp = pd.DataFrame({'imp':rfc.feature_importances_, 'col': X.columns})\n",
    "fea_imp = fea_imp.sort_values(['imp', 'col'], ascending=[True, False]).iloc[-30:]\n",
    "_ = fea_imp.plot(kind='barh', x='col', y='imp', figsize=(20, 10))"
   ]
  },
  {
   "cell_type": "markdown",
   "id": "c977559d",
   "metadata": {},
   "source": [
    "##### Checking model performance when features of less importance are dropped"
   ]
  },
  {
   "cell_type": "code",
   "execution_count": 25,
   "id": "f711b8f9",
   "metadata": {},
   "outputs": [],
   "source": [
    "model_1 = churn_data.copy()"
   ]
  },
  {
   "cell_type": "code",
   "execution_count": 26,
   "id": "f597e334",
   "metadata": {},
   "outputs": [],
   "source": [
    "#remove  least 5 important columns\n",
    "model_1.drop(columns=['card', 'ussd', 'newmobile', 'M', 'F'], axis=1, inplace=True)"
   ]
  },
  {
   "cell_type": "code",
   "execution_count": 27,
   "id": "c14399af",
   "metadata": {},
   "outputs": [
    {
     "data": {
      "text/html": [
       "<div>\n",
       "<style scoped>\n",
       "    .dataframe tbody tr th:only-of-type {\n",
       "        vertical-align: middle;\n",
       "    }\n",
       "\n",
       "    .dataframe tbody tr th {\n",
       "        vertical-align: top;\n",
       "    }\n",
       "\n",
       "    .dataframe thead th {\n",
       "        text-align: right;\n",
       "    }\n",
       "</style>\n",
       "<table border=\"1\" class=\"dataframe\">\n",
       "  <thead>\n",
       "    <tr style=\"text-align: right;\">\n",
       "      <th></th>\n",
       "      <th>mnth1</th>\n",
       "      <th>mnth2</th>\n",
       "      <th>mnth3</th>\n",
       "      <th>mnth4</th>\n",
       "      <th>mnth5</th>\n",
       "      <th>age</th>\n",
       "      <th>churn</th>\n",
       "      <th>customer_segment_freq</th>\n",
       "      <th>generation_freq</th>\n",
       "      <th>occupation_freq</th>\n",
       "      <th>region_name_freq</th>\n",
       "      <th>Active</th>\n",
       "      <th>Inactive</th>\n",
       "      <th>avg_5mnths_cnt</th>\n",
       "      <th>5mnths_cnt_std</th>\n",
       "    </tr>\n",
       "  </thead>\n",
       "  <tbody>\n",
       "    <tr>\n",
       "      <th>0</th>\n",
       "      <td>0</td>\n",
       "      <td>24</td>\n",
       "      <td>0</td>\n",
       "      <td>1</td>\n",
       "      <td>0</td>\n",
       "      <td>45</td>\n",
       "      <td>1</td>\n",
       "      <td>530530</td>\n",
       "      <td>575640</td>\n",
       "      <td>468611</td>\n",
       "      <td>532377</td>\n",
       "      <td>0</td>\n",
       "      <td>1</td>\n",
       "      <td>5</td>\n",
       "      <td>10.630146</td>\n",
       "    </tr>\n",
       "    <tr>\n",
       "      <th>1</th>\n",
       "      <td>8</td>\n",
       "      <td>1</td>\n",
       "      <td>14</td>\n",
       "      <td>22</td>\n",
       "      <td>3</td>\n",
       "      <td>83</td>\n",
       "      <td>0</td>\n",
       "      <td>530530</td>\n",
       "      <td>155530</td>\n",
       "      <td>468611</td>\n",
       "      <td>532377</td>\n",
       "      <td>0</td>\n",
       "      <td>1</td>\n",
       "      <td>9</td>\n",
       "      <td>8.544004</td>\n",
       "    </tr>\n",
       "    <tr>\n",
       "      <th>2</th>\n",
       "      <td>176</td>\n",
       "      <td>208</td>\n",
       "      <td>166</td>\n",
       "      <td>236</td>\n",
       "      <td>288</td>\n",
       "      <td>70</td>\n",
       "      <td>0</td>\n",
       "      <td>856550</td>\n",
       "      <td>155530</td>\n",
       "      <td>468611</td>\n",
       "      <td>897808</td>\n",
       "      <td>1</td>\n",
       "      <td>0</td>\n",
       "      <td>214</td>\n",
       "      <td>49.345719</td>\n",
       "    </tr>\n",
       "    <tr>\n",
       "      <th>3</th>\n",
       "      <td>29</td>\n",
       "      <td>19</td>\n",
       "      <td>23</td>\n",
       "      <td>35</td>\n",
       "      <td>59</td>\n",
       "      <td>60</td>\n",
       "      <td>0</td>\n",
       "      <td>435628</td>\n",
       "      <td>155530</td>\n",
       "      <td>468611</td>\n",
       "      <td>897808</td>\n",
       "      <td>1</td>\n",
       "      <td>0</td>\n",
       "      <td>33</td>\n",
       "      <td>15.748016</td>\n",
       "    </tr>\n",
       "    <tr>\n",
       "      <th>4</th>\n",
       "      <td>45</td>\n",
       "      <td>9</td>\n",
       "      <td>16</td>\n",
       "      <td>18</td>\n",
       "      <td>45</td>\n",
       "      <td>69</td>\n",
       "      <td>0</td>\n",
       "      <td>856550</td>\n",
       "      <td>155530</td>\n",
       "      <td>272198</td>\n",
       "      <td>897808</td>\n",
       "      <td>1</td>\n",
       "      <td>0</td>\n",
       "      <td>26</td>\n",
       "      <td>17.117243</td>\n",
       "    </tr>\n",
       "  </tbody>\n",
       "</table>\n",
       "</div>"
      ],
      "text/plain": [
       "   mnth1  mnth2  mnth3  mnth4  mnth5  age  churn  customer_segment_freq  \\\n",
       "0      0     24      0      1      0   45      1                 530530   \n",
       "1      8      1     14     22      3   83      0                 530530   \n",
       "2    176    208    166    236    288   70      0                 856550   \n",
       "3     29     19     23     35     59   60      0                 435628   \n",
       "4     45      9     16     18     45   69      0                 856550   \n",
       "\n",
       "   generation_freq  occupation_freq  region_name_freq  Active  Inactive  \\\n",
       "0           575640           468611            532377       0         1   \n",
       "1           155530           468611            532377       0         1   \n",
       "2           155530           468611            897808       1         0   \n",
       "3           155530           468611            897808       1         0   \n",
       "4           155530           272198            897808       1         0   \n",
       "\n",
       "   avg_5mnths_cnt  5mnths_cnt_std  \n",
       "0               5       10.630146  \n",
       "1               9        8.544004  \n",
       "2             214       49.345719  \n",
       "3              33       15.748016  \n",
       "4              26       17.117243  "
      ]
     },
     "execution_count": 27,
     "metadata": {},
     "output_type": "execute_result"
    }
   ],
   "source": [
    "model_1.head()"
   ]
  },
  {
   "cell_type": "code",
   "execution_count": 102,
   "id": "896513a8",
   "metadata": {},
   "outputs": [],
   "source": [
    "X_1 = model_1.drop('churn', axis =1)\n",
    "y_1 = model_1['churn']"
   ]
  },
  {
   "cell_type": "code",
   "execution_count": 103,
   "id": "e9c11caa",
   "metadata": {},
   "outputs": [],
   "source": [
    "from sklearn.model_selection import train_test_split\n",
    "\n",
    "X_train1, X_test1, y_train1, y_test1 = train_test_split(X_1, y_1, test_size = 0.30, random_state = 2, stratify = y_1)"
   ]
  },
  {
   "cell_type": "code",
   "execution_count": 104,
   "id": "b7be4a48",
   "metadata": {},
   "outputs": [
    {
     "data": {
      "text/plain": [
       "RandomForestClassifier(random_state=42)"
      ]
     },
     "execution_count": 104,
     "metadata": {},
     "output_type": "execute_result"
    }
   ],
   "source": [
    "rfc_1 = RandomForestClassifier(random_state=42) \n",
    "rfc_1.fit(X_train, y_train)"
   ]
  },
  {
   "cell_type": "code",
   "execution_count": 105,
   "id": "303d14b4",
   "metadata": {},
   "outputs": [],
   "source": [
    "pred_1 = rfc_1.predict(X_test1)"
   ]
  },
  {
   "cell_type": "code",
   "execution_count": 106,
   "id": "49c1a009",
   "metadata": {},
   "outputs": [
    {
     "data": {
      "text/html": [
       "<div>\n",
       "<style scoped>\n",
       "    .dataframe tbody tr th:only-of-type {\n",
       "        vertical-align: middle;\n",
       "    }\n",
       "\n",
       "    .dataframe tbody tr th {\n",
       "        vertical-align: top;\n",
       "    }\n",
       "\n",
       "    .dataframe thead th {\n",
       "        text-align: right;\n",
       "    }\n",
       "</style>\n",
       "<table border=\"1\" class=\"dataframe\">\n",
       "  <thead>\n",
       "    <tr style=\"text-align: right;\">\n",
       "      <th></th>\n",
       "      <th>Pred: False</th>\n",
       "      <th>Pred: True</th>\n",
       "    </tr>\n",
       "  </thead>\n",
       "  <tbody>\n",
       "    <tr>\n",
       "      <th>Actual: False</th>\n",
       "      <td>722496</td>\n",
       "      <td>10992</td>\n",
       "    </tr>\n",
       "    <tr>\n",
       "      <th>Actual: True</th>\n",
       "      <td>10931</td>\n",
       "      <td>57485</td>\n",
       "    </tr>\n",
       "  </tbody>\n",
       "</table>\n",
       "</div>"
      ],
      "text/plain": [
       "               Pred: False  Pred: True\n",
       "Actual: False       722496       10992\n",
       "Actual: True         10931       57485"
      ]
     },
     "execution_count": 106,
     "metadata": {},
     "output_type": "execute_result"
    }
   ],
   "source": [
    "pd.DataFrame(confusion_matrix(y_test1, pred_1), \n",
    "             index = ['Actual: False', 'Actual: True'],\n",
    "             columns = ['Pred: False', 'Pred: True'])"
   ]
  },
  {
   "cell_type": "code",
   "execution_count": 107,
   "id": "40f0d201",
   "metadata": {},
   "outputs": [
    {
     "name": "stdout",
     "output_type": "stream",
     "text": [
      "              precision    recall  f1-score   support\n",
      "\n",
      "           0       0.99      0.99      0.99    733488\n",
      "           1       0.84      0.84      0.84     68416\n",
      "\n",
      "    accuracy                           0.97    801904\n",
      "   macro avg       0.91      0.91      0.91    801904\n",
      "weighted avg       0.97      0.97      0.97    801904\n",
      "\n"
     ]
    }
   ],
   "source": [
    "print(classification_report(y_test1, pred_1))"
   ]
  },
  {
   "cell_type": "markdown",
   "id": "881a5f87",
   "metadata": {},
   "source": [
    "Removing these features reduces the model's performance a bit, so we'll keep them"
   ]
  },
  {
   "cell_type": "code",
   "execution_count": null,
   "id": "5415531a",
   "metadata": {},
   "outputs": [],
   "source": []
  },
  {
   "cell_type": "markdown",
   "id": "23a849c1",
   "metadata": {},
   "source": [
    "### Model 2 - Tuned RFC"
   ]
  },
  {
   "cell_type": "code",
   "execution_count": 28,
   "id": "87097730",
   "metadata": {},
   "outputs": [
    {
     "name": "stderr",
     "output_type": "stream",
     "text": [
      "UsageError: Line magic function `%%time` not found.\n"
     ]
    }
   ],
   "source": [
    "rfc_tuned = RandomForestClassifier(max_depth = 7, random_state= 42, max_features = 3,\n",
    "                               class_weight ='balanced', n_estimators=50) \n",
    "rfc_tuned.fit(X_train, y_train)"
   ]
  },
  {
   "cell_type": "code",
   "execution_count": 29,
   "id": "c64f66c4",
   "metadata": {},
   "outputs": [],
   "source": [
    "pred = rfc_tuned.predict(X_test)"
   ]
  },
  {
   "cell_type": "code",
   "execution_count": 30,
   "id": "e1d8e601",
   "metadata": {},
   "outputs": [
    {
     "data": {
      "text/html": [
       "<div>\n",
       "<style scoped>\n",
       "    .dataframe tbody tr th:only-of-type {\n",
       "        vertical-align: middle;\n",
       "    }\n",
       "\n",
       "    .dataframe tbody tr th {\n",
       "        vertical-align: top;\n",
       "    }\n",
       "\n",
       "    .dataframe thead th {\n",
       "        text-align: right;\n",
       "    }\n",
       "</style>\n",
       "<table border=\"1\" class=\"dataframe\">\n",
       "  <thead>\n",
       "    <tr style=\"text-align: right;\">\n",
       "      <th></th>\n",
       "      <th>Pred: False</th>\n",
       "      <th>Pred: True</th>\n",
       "    </tr>\n",
       "  </thead>\n",
       "  <tbody>\n",
       "    <tr>\n",
       "      <th>Actual: False</th>\n",
       "      <td>650097</td>\n",
       "      <td>46057</td>\n",
       "    </tr>\n",
       "    <tr>\n",
       "      <th>Actual: True</th>\n",
       "      <td>0</td>\n",
       "      <td>67922</td>\n",
       "    </tr>\n",
       "  </tbody>\n",
       "</table>\n",
       "</div>"
      ],
      "text/plain": [
       "               Pred: False  Pred: True\n",
       "Actual: False       650097       46057\n",
       "Actual: True             0       67922"
      ]
     },
     "execution_count": 30,
     "metadata": {},
     "output_type": "execute_result"
    }
   ],
   "source": [
    "pd.DataFrame(confusion_matrix(y_test, pred), \n",
    "             index = ['Actual: False', 'Actual: True'],\n",
    "             columns = ['Pred: False', 'Pred: True'])"
   ]
  },
  {
   "cell_type": "code",
   "execution_count": 31,
   "id": "1134539d",
   "metadata": {},
   "outputs": [
    {
     "name": "stdout",
     "output_type": "stream",
     "text": [
      "              precision    recall  f1-score   support\n",
      "\n",
      "           0       1.00      0.93      0.97    696154\n",
      "           1       0.60      1.00      0.75     67922\n",
      "\n",
      "    accuracy                           0.94    764076\n",
      "   macro avg       0.80      0.97      0.86    764076\n",
      "weighted avg       0.96      0.94      0.95    764076\n",
      "\n"
     ]
    }
   ],
   "source": [
    "print(classification_report(y_test, pred))"
   ]
  },
  {
   "cell_type": "markdown",
   "id": "4a5343fc",
   "metadata": {},
   "source": [
    "##### Predicting train"
   ]
  },
  {
   "cell_type": "code",
   "execution_count": 32,
   "id": "5f6e590d",
   "metadata": {},
   "outputs": [],
   "source": [
    "t_pred = rfc_tuned.predict(X_train)"
   ]
  },
  {
   "cell_type": "code",
   "execution_count": 33,
   "id": "b1e22d5b",
   "metadata": {},
   "outputs": [
    {
     "data": {
      "text/html": [
       "<div>\n",
       "<style scoped>\n",
       "    .dataframe tbody tr th:only-of-type {\n",
       "        vertical-align: middle;\n",
       "    }\n",
       "\n",
       "    .dataframe tbody tr th {\n",
       "        vertical-align: top;\n",
       "    }\n",
       "\n",
       "    .dataframe thead th {\n",
       "        text-align: right;\n",
       "    }\n",
       "</style>\n",
       "<table border=\"1\" class=\"dataframe\">\n",
       "  <thead>\n",
       "    <tr style=\"text-align: right;\">\n",
       "      <th></th>\n",
       "      <th>Pred: False</th>\n",
       "      <th>Pred: True</th>\n",
       "    </tr>\n",
       "  </thead>\n",
       "  <tbody>\n",
       "    <tr>\n",
       "      <th>Actual: False</th>\n",
       "      <td>1516265</td>\n",
       "      <td>108092</td>\n",
       "    </tr>\n",
       "    <tr>\n",
       "      <th>Actual: True</th>\n",
       "      <td>0</td>\n",
       "      <td>158485</td>\n",
       "    </tr>\n",
       "  </tbody>\n",
       "</table>\n",
       "</div>"
      ],
      "text/plain": [
       "               Pred: False  Pred: True\n",
       "Actual: False      1516265      108092\n",
       "Actual: True             0      158485"
      ]
     },
     "execution_count": 33,
     "metadata": {},
     "output_type": "execute_result"
    }
   ],
   "source": [
    "pd.DataFrame(confusion_matrix(y_train, t_pred), \n",
    "             index = ['Actual: False', 'Actual: True'],\n",
    "             columns = ['Pred: False', 'Pred: True'])"
   ]
  },
  {
   "cell_type": "code",
   "execution_count": 34,
   "id": "22f4da5b",
   "metadata": {},
   "outputs": [
    {
     "name": "stdout",
     "output_type": "stream",
     "text": [
      "              precision    recall  f1-score   support\n",
      "\n",
      "           0       1.00      0.93      0.97   1624357\n",
      "           1       0.59      1.00      0.75    158485\n",
      "\n",
      "    accuracy                           0.94   1782842\n",
      "   macro avg       0.80      0.97      0.86   1782842\n",
      "weighted avg       0.96      0.94      0.95   1782842\n",
      "\n"
     ]
    }
   ],
   "source": [
    "print(classification_report(y_train, t_pred))"
   ]
  },
  {
   "cell_type": "markdown",
   "id": "97f85618",
   "metadata": {},
   "source": [
    "The model isn't overfitting anymore, and is doing the same on both train and test set"
   ]
  },
  {
   "cell_type": "code",
   "execution_count": null,
   "id": "eb46d8ef",
   "metadata": {},
   "outputs": [],
   "source": []
  },
  {
   "cell_type": "markdown",
   "id": "a3c19459",
   "metadata": {},
   "source": [
    "#### Visualizing the features of importance"
   ]
  },
  {
   "cell_type": "code",
   "execution_count": 119,
   "id": "7af99ab3",
   "metadata": {},
   "outputs": [
    {
     "data": {
      "image/png": "[encoded data removed]",
      "text/plain": [
       "<Figure size 1440x720 with 1 Axes>"
      ]
     },
     "metadata": {
      "needs_background": "light"
     },
     "output_type": "display_data"
    }
   ],
   "source": [
    "fea_imp = pd.DataFrame({'imp':m.feature_importances_, 'col': X.columns})\n",
    "fea_imp = fea_imp.sort_values(['imp', 'col'], ascending=[True, False]).iloc[-30:]\n",
    "_ = fea_imp.plot(kind='barh', x='col', y='imp', figsize=(20, 10))"
   ]
  },
  {
   "cell_type": "code",
   "execution_count": null,
   "id": "c8a8ab0e",
   "metadata": {},
   "outputs": [],
   "source": []
  },
  {
   "cell_type": "code",
   "execution_count": null,
   "id": "7e7754bb",
   "metadata": {},
   "outputs": [],
   "source": []
  },
  {
   "cell_type": "markdown",
   "id": "52520e61",
   "metadata": {},
   "source": [
    "### Model 3 - XG Boost Tuned"
   ]
  },
  {
   "cell_type": "code",
   "execution_count": 35,
   "id": "edecfa9f",
   "metadata": {},
   "outputs": [],
   "source": [
    "from xgboost import XGBClassifier\n",
    "from sklearn.model_selection import RepeatedStratifiedKFold\n",
    "from sklearn.model_selection import cross_validate"
   ]
  },
  {
   "cell_type": "code",
   "execution_count": 36,
   "id": "ac62991c",
   "metadata": {},
   "outputs": [],
   "source": [
    "xgb = XGBClassifier(n_estimators=300, scale_pos_weight=5, random_state = 42)"
   ]
  },
  {
   "cell_type": "code",
   "execution_count": 37,
   "id": "f0725629",
   "metadata": {},
   "outputs": [
    {
     "data": {
      "text/plain": [
       "XGBClassifier(base_score=None, booster=None, callbacks=None,\n",
       "              colsample_bylevel=None, colsample_bynode=None,\n",
       "              colsample_bytree=None, early_stopping_rounds=None,\n",
       "              enable_categorical=False, eval_metric=None, feature_types=None,\n",
       "              gamma=None, gpu_id=None, grow_policy=None, importance_type=None,\n",
       "              interaction_constraints=None, learning_rate=None, max_bin=None,\n",
       "              max_cat_threshold=None, max_cat_to_onehot=None,\n",
       "              max_delta_step=None, max_depth=None, max_leaves=None,\n",
       "              min_child_weight=None, missing=nan, monotone_constraints=None,\n",
       "              n_estimators=300, n_jobs=None, num_parallel_tree=None,\n",
       "              predictor=None, random_state=42, ...)"
      ]
     },
     "execution_count": 37,
     "metadata": {},
     "output_type": "execute_result"
    }
   ],
   "source": [
    "xgb.fit(X_train, y_train)"
   ]
  },
  {
   "cell_type": "code",
   "execution_count": 38,
   "id": "e5dabe8a",
   "metadata": {},
   "outputs": [],
   "source": [
    "predx = xgb.predict(X_test)"
   ]
  },
  {
   "cell_type": "code",
   "execution_count": 39,
   "id": "de3b4789",
   "metadata": {},
   "outputs": [
    {
     "data": {
      "text/html": [
       "<div>\n",
       "<style scoped>\n",
       "    .dataframe tbody tr th:only-of-type {\n",
       "        vertical-align: middle;\n",
       "    }\n",
       "\n",
       "    .dataframe tbody tr th {\n",
       "        vertical-align: top;\n",
       "    }\n",
       "\n",
       "    .dataframe thead th {\n",
       "        text-align: right;\n",
       "    }\n",
       "</style>\n",
       "<table border=\"1\" class=\"dataframe\">\n",
       "  <thead>\n",
       "    <tr style=\"text-align: right;\">\n",
       "      <th></th>\n",
       "      <th>Pred: False</th>\n",
       "      <th>Pred: True</th>\n",
       "    </tr>\n",
       "  </thead>\n",
       "  <tbody>\n",
       "    <tr>\n",
       "      <th>Actual: False</th>\n",
       "      <td>672499</td>\n",
       "      <td>23655</td>\n",
       "    </tr>\n",
       "    <tr>\n",
       "      <th>Actual: True</th>\n",
       "      <td>1036</td>\n",
       "      <td>66886</td>\n",
       "    </tr>\n",
       "  </tbody>\n",
       "</table>\n",
       "</div>"
      ],
      "text/plain": [
       "               Pred: False  Pred: True\n",
       "Actual: False       672499       23655\n",
       "Actual: True          1036       66886"
      ]
     },
     "execution_count": 39,
     "metadata": {},
     "output_type": "execute_result"
    }
   ],
   "source": [
    "pd.DataFrame(confusion_matrix(y_test, predx), \n",
    "             index = ['Actual: False', 'Actual: True'],\n",
    "             columns = ['Pred: False', 'Pred: True'])"
   ]
  },
  {
   "cell_type": "code",
   "execution_count": 40,
   "id": "cc73ecd9",
   "metadata": {},
   "outputs": [
    {
     "name": "stdout",
     "output_type": "stream",
     "text": [
      "              precision    recall  f1-score   support\n",
      "\n",
      "           0       1.00      0.97      0.98    696154\n",
      "           1       0.74      0.98      0.84     67922\n",
      "\n",
      "    accuracy                           0.97    764076\n",
      "   macro avg       0.87      0.98      0.91    764076\n",
      "weighted avg       0.98      0.97      0.97    764076\n",
      "\n"
     ]
    }
   ],
   "source": [
    "print(classification_report(y_test, predx))"
   ]
  },
  {
   "cell_type": "markdown",
   "id": "e13d0c47",
   "metadata": {},
   "source": [
    "##### Predicting train"
   ]
  },
  {
   "cell_type": "code",
   "execution_count": 42,
   "id": "f7f70e25",
   "metadata": {},
   "outputs": [],
   "source": [
    "t_predx = xgb.predict(X_train)"
   ]
  },
  {
   "cell_type": "code",
   "execution_count": 43,
   "id": "66078ab6",
   "metadata": {},
   "outputs": [
    {
     "data": {
      "text/html": [
       "<div>\n",
       "<style scoped>\n",
       "    .dataframe tbody tr th:only-of-type {\n",
       "        vertical-align: middle;\n",
       "    }\n",
       "\n",
       "    .dataframe tbody tr th {\n",
       "        vertical-align: top;\n",
       "    }\n",
       "\n",
       "    .dataframe thead th {\n",
       "        text-align: right;\n",
       "    }\n",
       "</style>\n",
       "<table border=\"1\" class=\"dataframe\">\n",
       "  <thead>\n",
       "    <tr style=\"text-align: right;\">\n",
       "      <th></th>\n",
       "      <th>Pred: False</th>\n",
       "      <th>Pred: True</th>\n",
       "    </tr>\n",
       "  </thead>\n",
       "  <tbody>\n",
       "    <tr>\n",
       "      <th>Actual: False</th>\n",
       "      <td>1572101</td>\n",
       "      <td>52256</td>\n",
       "    </tr>\n",
       "    <tr>\n",
       "      <th>Actual: True</th>\n",
       "      <td>553</td>\n",
       "      <td>157932</td>\n",
       "    </tr>\n",
       "  </tbody>\n",
       "</table>\n",
       "</div>"
      ],
      "text/plain": [
       "               Pred: False  Pred: True\n",
       "Actual: False      1572101       52256\n",
       "Actual: True           553      157932"
      ]
     },
     "execution_count": 43,
     "metadata": {},
     "output_type": "execute_result"
    }
   ],
   "source": [
    "pd.DataFrame(confusion_matrix(y_train, t_predx), \n",
    "             index = ['Actual: False', 'Actual: True'],\n",
    "             columns = ['Pred: False', 'Pred: True'])"
   ]
  },
  {
   "cell_type": "code",
   "execution_count": 44,
   "id": "30394f94",
   "metadata": {},
   "outputs": [
    {
     "name": "stdout",
     "output_type": "stream",
     "text": [
      "              precision    recall  f1-score   support\n",
      "\n",
      "           0       1.00      0.97      0.98   1624357\n",
      "           1       0.75      1.00      0.86    158485\n",
      "\n",
      "    accuracy                           0.97   1782842\n",
      "   macro avg       0.88      0.98      0.92   1782842\n",
      "weighted avg       0.98      0.97      0.97   1782842\n",
      "\n"
     ]
    }
   ],
   "source": [
    "print(classification_report(y_train, t_predx))"
   ]
  },
  {
   "cell_type": "code",
   "execution_count": null,
   "id": "7ba634fd",
   "metadata": {},
   "outputs": [],
   "source": []
  },
  {
   "cell_type": "markdown",
   "id": "634799cd",
   "metadata": {},
   "source": [
    "### Experimenting with Undersampling \n",
    "\n",
    "### Undersampling 2:1"
   ]
  },
  {
   "cell_type": "code",
   "execution_count": 45,
   "id": "da8fee07",
   "metadata": {},
   "outputs": [
    {
     "name": "stdout",
     "output_type": "stream",
     "text": [
      "Undersampling...\n",
      "2320511\n",
      "226407\n"
     ]
    }
   ],
   "source": [
    "print('Undersampling...')\n",
    "# Class count\n",
    "count_class_0, count_class_1 = churn_data.churn.value_counts()\n",
    "\n",
    "print(count_class_0)\n",
    "print(count_class_1)"
   ]
  },
  {
   "cell_type": "code",
   "execution_count": 46,
   "id": "4fa45a54",
   "metadata": {},
   "outputs": [],
   "source": [
    "# Divide by class\n",
    "df_class_0 = churn_data[churn_data['churn'] == 0]\n",
    "df_class_1 = churn_data[churn_data['churn'] == 1]"
   ]
  },
  {
   "cell_type": "code",
   "execution_count": 47,
   "id": "31ffaddb",
   "metadata": {},
   "outputs": [
    {
     "name": "stdout",
     "output_type": "stream",
     "text": [
      "Random under-sampling:\n",
      "0    452814\n",
      "1    226407\n",
      "Name: churn, dtype: int64\n"
     ]
    }
   ],
   "source": [
    "#sampling 2-1\n",
    "df_class_0_under = df_class_0.sample(2*count_class_1)\n",
    "\n",
    "churn_under = pd.concat([df_class_0_under, df_class_1], axis=0)\n",
    "\n",
    "print('Random under-sampling:')\n",
    "print(churn_under.churn.value_counts())"
   ]
  },
  {
   "cell_type": "code",
   "execution_count": 48,
   "id": "a3a1f4a2",
   "metadata": {},
   "outputs": [],
   "source": [
    "X_u = churn_under.drop('churn', axis=1)\n",
    "y_u = churn_under['churn']"
   ]
  },
  {
   "cell_type": "code",
   "execution_count": 49,
   "id": "060200b6",
   "metadata": {
    "scrolled": true
   },
   "outputs": [
    {
     "data": {
      "text/html": [
       "<div>\n",
       "<style scoped>\n",
       "    .dataframe tbody tr th:only-of-type {\n",
       "        vertical-align: middle;\n",
       "    }\n",
       "\n",
       "    .dataframe tbody tr th {\n",
       "        vertical-align: top;\n",
       "    }\n",
       "\n",
       "    .dataframe thead th {\n",
       "        text-align: right;\n",
       "    }\n",
       "</style>\n",
       "<table border=\"1\" class=\"dataframe\">\n",
       "  <thead>\n",
       "    <tr style=\"text-align: right;\">\n",
       "      <th></th>\n",
       "      <th>mnth1</th>\n",
       "      <th>mnth2</th>\n",
       "      <th>mnth3</th>\n",
       "      <th>mnth4</th>\n",
       "      <th>mnth5</th>\n",
       "      <th>age</th>\n",
       "      <th>card</th>\n",
       "      <th>ussd</th>\n",
       "      <th>newmobile</th>\n",
       "      <th>customer_segment_freq</th>\n",
       "      <th>generation_freq</th>\n",
       "      <th>occupation_freq</th>\n",
       "      <th>region_name_freq</th>\n",
       "      <th>Active</th>\n",
       "      <th>Inactive</th>\n",
       "      <th>F</th>\n",
       "      <th>M</th>\n",
       "      <th>avg_5mnths_cnt</th>\n",
       "      <th>5mnths_cnt_std</th>\n",
       "    </tr>\n",
       "  </thead>\n",
       "  <tbody>\n",
       "    <tr>\n",
       "      <th>2543211</th>\n",
       "      <td>0</td>\n",
       "      <td>5</td>\n",
       "      <td>2</td>\n",
       "      <td>2</td>\n",
       "      <td>20</td>\n",
       "      <td>56</td>\n",
       "      <td>1</td>\n",
       "      <td>0</td>\n",
       "      <td>1</td>\n",
       "      <td>435628</td>\n",
       "      <td>575640</td>\n",
       "      <td>15649</td>\n",
       "      <td>897808</td>\n",
       "      <td>1</td>\n",
       "      <td>0</td>\n",
       "      <td>0</td>\n",
       "      <td>1</td>\n",
       "      <td>5</td>\n",
       "      <td>8.124038</td>\n",
       "    </tr>\n",
       "    <tr>\n",
       "      <th>1386582</th>\n",
       "      <td>6</td>\n",
       "      <td>13</td>\n",
       "      <td>27</td>\n",
       "      <td>23</td>\n",
       "      <td>26</td>\n",
       "      <td>51</td>\n",
       "      <td>1</td>\n",
       "      <td>1</td>\n",
       "      <td>0</td>\n",
       "      <td>435628</td>\n",
       "      <td>575640</td>\n",
       "      <td>327676</td>\n",
       "      <td>532377</td>\n",
       "      <td>1</td>\n",
       "      <td>0</td>\n",
       "      <td>0</td>\n",
       "      <td>1</td>\n",
       "      <td>19</td>\n",
       "      <td>9.110434</td>\n",
       "    </tr>\n",
       "    <tr>\n",
       "      <th>930543</th>\n",
       "      <td>130</td>\n",
       "      <td>84</td>\n",
       "      <td>178</td>\n",
       "      <td>164</td>\n",
       "      <td>310</td>\n",
       "      <td>31</td>\n",
       "      <td>1</td>\n",
       "      <td>1</td>\n",
       "      <td>1</td>\n",
       "      <td>530530</td>\n",
       "      <td>1118889</td>\n",
       "      <td>159088</td>\n",
       "      <td>47876</td>\n",
       "      <td>1</td>\n",
       "      <td>0</td>\n",
       "      <td>0</td>\n",
       "      <td>1</td>\n",
       "      <td>173</td>\n",
       "      <td>84.622692</td>\n",
       "    </tr>\n",
       "    <tr>\n",
       "      <th>843788</th>\n",
       "      <td>54</td>\n",
       "      <td>38</td>\n",
       "      <td>64</td>\n",
       "      <td>12</td>\n",
       "      <td>82</td>\n",
       "      <td>29</td>\n",
       "      <td>0</td>\n",
       "      <td>1</td>\n",
       "      <td>1</td>\n",
       "      <td>178303</td>\n",
       "      <td>1118889</td>\n",
       "      <td>159088</td>\n",
       "      <td>532377</td>\n",
       "      <td>1</td>\n",
       "      <td>0</td>\n",
       "      <td>0</td>\n",
       "      <td>1</td>\n",
       "      <td>50</td>\n",
       "      <td>26.570661</td>\n",
       "    </tr>\n",
       "    <tr>\n",
       "      <th>2440134</th>\n",
       "      <td>23</td>\n",
       "      <td>17</td>\n",
       "      <td>11</td>\n",
       "      <td>0</td>\n",
       "      <td>4</td>\n",
       "      <td>20</td>\n",
       "      <td>1</td>\n",
       "      <td>1</td>\n",
       "      <td>1</td>\n",
       "      <td>856550</td>\n",
       "      <td>684574</td>\n",
       "      <td>159088</td>\n",
       "      <td>897808</td>\n",
       "      <td>1</td>\n",
       "      <td>0</td>\n",
       "      <td>1</td>\n",
       "      <td>0</td>\n",
       "      <td>11</td>\n",
       "      <td>9.327379</td>\n",
       "    </tr>\n",
       "  </tbody>\n",
       "</table>\n",
       "</div>"
      ],
      "text/plain": [
       "         mnth1  mnth2  mnth3  mnth4  mnth5  age  card  ussd  newmobile  \\\n",
       "2543211      0      5      2      2     20   56     1     0          1   \n",
       "1386582      6     13     27     23     26   51     1     1          0   \n",
       "930543     130     84    178    164    310   31     1     1          1   \n",
       "843788      54     38     64     12     82   29     0     1          1   \n",
       "2440134     23     17     11      0      4   20     1     1          1   \n",
       "\n",
       "         customer_segment_freq  generation_freq  occupation_freq  \\\n",
       "2543211                 435628           575640            15649   \n",
       "1386582                 435628           575640           327676   \n",
       "930543                  530530          1118889           159088   \n",
       "843788                  178303          1118889           159088   \n",
       "2440134                 856550           684574           159088   \n",
       "\n",
       "         region_name_freq  Active  Inactive  F  M  avg_5mnths_cnt  \\\n",
       "2543211            897808       1         0  0  1               5   \n",
       "1386582            532377       1         0  0  1              19   \n",
       "930543              47876       1         0  0  1             173   \n",
       "843788             532377       1         0  0  1              50   \n",
       "2440134            897808       1         0  1  0              11   \n",
       "\n",
       "         5mnths_cnt_std  \n",
       "2543211        8.124038  \n",
       "1386582        9.110434  \n",
       "930543        84.622692  \n",
       "843788        26.570661  \n",
       "2440134        9.327379  "
      ]
     },
     "execution_count": 49,
     "metadata": {},
     "output_type": "execute_result"
    }
   ],
   "source": [
    "X_u.head()"
   ]
  },
  {
   "cell_type": "code",
   "execution_count": 50,
   "id": "744d3a8a",
   "metadata": {},
   "outputs": [
    {
     "data": {
      "text/plain": [
       "(679221, 679221)"
      ]
     },
     "execution_count": 50,
     "metadata": {},
     "output_type": "execute_result"
    }
   ],
   "source": [
    "len(X_u), len(y_u)"
   ]
  },
  {
   "cell_type": "markdown",
   "id": "935c1158",
   "metadata": {},
   "source": [
    "#### Random Forest"
   ]
  },
  {
   "cell_type": "code",
   "execution_count": 51,
   "id": "d9bf1c9b",
   "metadata": {},
   "outputs": [],
   "source": [
    "X_train1, X_test1, y_train1, y_test1 = train_test_split(X_u, y_u, test_size = 0.30, random_state = 2, stratify = y_u)"
   ]
  },
  {
   "cell_type": "code",
   "execution_count": 52,
   "id": "f550a3f9",
   "metadata": {},
   "outputs": [
    {
     "data": {
      "text/plain": [
       "RandomForestClassifier(class_weight='balanced', max_depth=7, max_features=3,\n",
       "                       n_estimators=50, random_state=42)"
      ]
     },
     "execution_count": 52,
     "metadata": {},
     "output_type": "execute_result"
    }
   ],
   "source": [
    "rfc2 = RandomForestClassifier(max_depth = 7, random_state= 42, max_features = 3, class_weight ='balanced', n_estimators=50) \n",
    "rfc2.fit(X_train1, y_train1)"
   ]
  },
  {
   "cell_type": "code",
   "execution_count": 53,
   "id": "532d2d91",
   "metadata": {},
   "outputs": [],
   "source": [
    "pred = rfc2.predict(X_test1)"
   ]
  },
  {
   "cell_type": "code",
   "execution_count": 54,
   "id": "25fa08a4",
   "metadata": {},
   "outputs": [
    {
     "data": {
      "text/html": [
       "<div>\n",
       "<style scoped>\n",
       "    .dataframe tbody tr th:only-of-type {\n",
       "        vertical-align: middle;\n",
       "    }\n",
       "\n",
       "    .dataframe tbody tr th {\n",
       "        vertical-align: top;\n",
       "    }\n",
       "\n",
       "    .dataframe thead th {\n",
       "        text-align: right;\n",
       "    }\n",
       "</style>\n",
       "<table border=\"1\" class=\"dataframe\">\n",
       "  <thead>\n",
       "    <tr style=\"text-align: right;\">\n",
       "      <th></th>\n",
       "      <th>Pred: False</th>\n",
       "      <th>Pred: True</th>\n",
       "    </tr>\n",
       "  </thead>\n",
       "  <tbody>\n",
       "    <tr>\n",
       "      <th>Actual: False</th>\n",
       "      <td>126656</td>\n",
       "      <td>9189</td>\n",
       "    </tr>\n",
       "    <tr>\n",
       "      <th>Actual: True</th>\n",
       "      <td>0</td>\n",
       "      <td>67922</td>\n",
       "    </tr>\n",
       "  </tbody>\n",
       "</table>\n",
       "</div>"
      ],
      "text/plain": [
       "               Pred: False  Pred: True\n",
       "Actual: False       126656        9189\n",
       "Actual: True             0       67922"
      ]
     },
     "execution_count": 54,
     "metadata": {},
     "output_type": "execute_result"
    }
   ],
   "source": [
    "pd.DataFrame(confusion_matrix(y_test1, pred), \n",
    "             index = ['Actual: False', 'Actual: True'],\n",
    "             columns = ['Pred: False', 'Pred: True'])"
   ]
  },
  {
   "cell_type": "code",
   "execution_count": 55,
   "id": "931ff890",
   "metadata": {},
   "outputs": [
    {
     "name": "stdout",
     "output_type": "stream",
     "text": [
      "              precision    recall  f1-score   support\n",
      "\n",
      "           0       1.00      0.93      0.96    135845\n",
      "           1       0.88      1.00      0.94     67922\n",
      "\n",
      "    accuracy                           0.95    203767\n",
      "   macro avg       0.94      0.97      0.95    203767\n",
      "weighted avg       0.96      0.95      0.96    203767\n",
      "\n"
     ]
    }
   ],
   "source": [
    "print(classification_report(y_test1, pred))"
   ]
  },
  {
   "cell_type": "markdown",
   "id": "926dde0a",
   "metadata": {},
   "source": [
    "#### XGBoost"
   ]
  },
  {
   "cell_type": "code",
   "execution_count": 56,
   "id": "d8b8d909",
   "metadata": {},
   "outputs": [],
   "source": [
    "xgb2 = XGBClassifier(n_estimators=300, scale_pos_weight=25, random_state = 42)"
   ]
  },
  {
   "cell_type": "code",
   "execution_count": 57,
   "id": "abc28b37",
   "metadata": {},
   "outputs": [
    {
     "data": {
      "text/plain": [
       "XGBClassifier(base_score=None, booster=None, callbacks=None,\n",
       "              colsample_bylevel=None, colsample_bynode=None,\n",
       "              colsample_bytree=None, early_stopping_rounds=None,\n",
       "              enable_categorical=False, eval_metric=None, feature_types=None,\n",
       "              gamma=None, gpu_id=None, grow_policy=None, importance_type=None,\n",
       "              interaction_constraints=None, learning_rate=None, max_bin=None,\n",
       "              max_cat_threshold=None, max_cat_to_onehot=None,\n",
       "              max_delta_step=None, max_depth=None, max_leaves=None,\n",
       "              min_child_weight=None, missing=nan, monotone_constraints=None,\n",
       "              n_estimators=300, n_jobs=None, num_parallel_tree=None,\n",
       "              predictor=None, random_state=42, ...)"
      ]
     },
     "execution_count": 57,
     "metadata": {},
     "output_type": "execute_result"
    }
   ],
   "source": [
    "xgb2.fit(X_train1, y_train1)"
   ]
  },
  {
   "cell_type": "code",
   "execution_count": 58,
   "id": "a7bc78a9",
   "metadata": {},
   "outputs": [],
   "source": [
    "predx = xgb2.predict(X_test1)"
   ]
  },
  {
   "cell_type": "code",
   "execution_count": 59,
   "id": "7657b27a",
   "metadata": {},
   "outputs": [
    {
     "data": {
      "text/html": [
       "<div>\n",
       "<style scoped>\n",
       "    .dataframe tbody tr th:only-of-type {\n",
       "        vertical-align: middle;\n",
       "    }\n",
       "\n",
       "    .dataframe tbody tr th {\n",
       "        vertical-align: top;\n",
       "    }\n",
       "\n",
       "    .dataframe thead th {\n",
       "        text-align: right;\n",
       "    }\n",
       "</style>\n",
       "<table border=\"1\" class=\"dataframe\">\n",
       "  <thead>\n",
       "    <tr style=\"text-align: right;\">\n",
       "      <th></th>\n",
       "      <th>Pred: False</th>\n",
       "      <th>Pred: True</th>\n",
       "    </tr>\n",
       "  </thead>\n",
       "  <tbody>\n",
       "    <tr>\n",
       "      <th>Actual: False</th>\n",
       "      <td>130362</td>\n",
       "      <td>5483</td>\n",
       "    </tr>\n",
       "    <tr>\n",
       "      <th>Actual: True</th>\n",
       "      <td>31</td>\n",
       "      <td>67891</td>\n",
       "    </tr>\n",
       "  </tbody>\n",
       "</table>\n",
       "</div>"
      ],
      "text/plain": [
       "               Pred: False  Pred: True\n",
       "Actual: False       130362        5483\n",
       "Actual: True            31       67891"
      ]
     },
     "execution_count": 59,
     "metadata": {},
     "output_type": "execute_result"
    }
   ],
   "source": [
    "pd.DataFrame(confusion_matrix(y_test1, predx), \n",
    "             index = ['Actual: False', 'Actual: True'],\n",
    "             columns = ['Pred: False', 'Pred: True'])"
   ]
  },
  {
   "cell_type": "code",
   "execution_count": 60,
   "id": "26de761d",
   "metadata": {},
   "outputs": [
    {
     "name": "stdout",
     "output_type": "stream",
     "text": [
      "              precision    recall  f1-score   support\n",
      "\n",
      "           0       1.00      0.96      0.98    135845\n",
      "           1       0.93      1.00      0.96     67922\n",
      "\n",
      "    accuracy                           0.97    203767\n",
      "   macro avg       0.96      0.98      0.97    203767\n",
      "weighted avg       0.97      0.97      0.97    203767\n",
      "\n"
     ]
    }
   ],
   "source": [
    "print(classification_report(y_test1, predx))"
   ]
  },
  {
   "cell_type": "markdown",
   "id": "ad8e0484",
   "metadata": {},
   "source": [
    "### Undersampling 1:1"
   ]
  },
  {
   "cell_type": "code",
   "execution_count": 62,
   "id": "4fb5350f",
   "metadata": {},
   "outputs": [],
   "source": [
    "#sampling 1:1\n",
    "df_class_0_under = df_class_0.sample(1*count_class_1)"
   ]
  },
  {
   "cell_type": "code",
   "execution_count": 63,
   "id": "e20b9c1e",
   "metadata": {},
   "outputs": [],
   "source": [
    "churn_under = pd.concat([df_class_0_under, df_class_1], axis=0)"
   ]
  },
  {
   "cell_type": "code",
   "execution_count": 64,
   "id": "3e0580ec",
   "metadata": {},
   "outputs": [
    {
     "name": "stdout",
     "output_type": "stream",
     "text": [
      "Random under-sampling:\n",
      "0    226407\n",
      "1    226407\n",
      "Name: churn, dtype: int64\n"
     ]
    }
   ],
   "source": [
    "print('Random under-sampling:')\n",
    "print(churn_under.churn.value_counts())"
   ]
  },
  {
   "cell_type": "code",
   "execution_count": 65,
   "id": "f84a71bb",
   "metadata": {},
   "outputs": [],
   "source": [
    "X_u = churn_under.drop('churn', axis=1)\n",
    "y_u = churn_under['churn']"
   ]
  },
  {
   "cell_type": "markdown",
   "id": "dc350f8e",
   "metadata": {},
   "source": [
    "#### Random Forest"
   ]
  },
  {
   "cell_type": "code",
   "execution_count": 66,
   "id": "071e2df6",
   "metadata": {},
   "outputs": [],
   "source": [
    "X1_train, X1_test, y1_train, y1_test = train_test_split(X_u, y_u, test_size = 0.30, random_state = 2, stratify = y_u)"
   ]
  },
  {
   "cell_type": "code",
   "execution_count": 67,
   "id": "e98ada87",
   "metadata": {},
   "outputs": [
    {
     "data": {
      "text/plain": [
       "RandomForestClassifier(class_weight='balanced', max_depth=7, max_features=3,\n",
       "                       n_estimators=50, random_state=42)"
      ]
     },
     "execution_count": 67,
     "metadata": {},
     "output_type": "execute_result"
    }
   ],
   "source": [
    "random_forest = RandomForestClassifier(max_depth = 7, random_state= 42, max_features = 3, class_weight ='balanced',\n",
    "                                        n_estimators=50) \n",
    "random_forest.fit(X1_train, y1_train)"
   ]
  },
  {
   "cell_type": "code",
   "execution_count": 68,
   "id": "4d816cb0",
   "metadata": {},
   "outputs": [],
   "source": [
    "pred = random_forest.predict(X1_test)"
   ]
  },
  {
   "cell_type": "code",
   "execution_count": 69,
   "id": "ca1a6dac",
   "metadata": {},
   "outputs": [
    {
     "data": {
      "text/html": [
       "<div>\n",
       "<style scoped>\n",
       "    .dataframe tbody tr th:only-of-type {\n",
       "        vertical-align: middle;\n",
       "    }\n",
       "\n",
       "    .dataframe tbody tr th {\n",
       "        vertical-align: top;\n",
       "    }\n",
       "\n",
       "    .dataframe thead th {\n",
       "        text-align: right;\n",
       "    }\n",
       "</style>\n",
       "<table border=\"1\" class=\"dataframe\">\n",
       "  <thead>\n",
       "    <tr style=\"text-align: right;\">\n",
       "      <th></th>\n",
       "      <th>Pred: False</th>\n",
       "      <th>Pred: True</th>\n",
       "    </tr>\n",
       "  </thead>\n",
       "  <tbody>\n",
       "    <tr>\n",
       "      <th>Actual: False</th>\n",
       "      <td>63374</td>\n",
       "      <td>4549</td>\n",
       "    </tr>\n",
       "    <tr>\n",
       "      <th>Actual: True</th>\n",
       "      <td>18</td>\n",
       "      <td>67904</td>\n",
       "    </tr>\n",
       "  </tbody>\n",
       "</table>\n",
       "</div>"
      ],
      "text/plain": [
       "               Pred: False  Pred: True\n",
       "Actual: False        63374        4549\n",
       "Actual: True            18       67904"
      ]
     },
     "execution_count": 69,
     "metadata": {},
     "output_type": "execute_result"
    }
   ],
   "source": [
    "pd.DataFrame(confusion_matrix(y1_test, pred), \n",
    "             index = ['Actual: False', 'Actual: True'],\n",
    "             columns = ['Pred: False', 'Pred: True'])"
   ]
  },
  {
   "cell_type": "code",
   "execution_count": 70,
   "id": "3002d531",
   "metadata": {},
   "outputs": [
    {
     "name": "stdout",
     "output_type": "stream",
     "text": [
      "              precision    recall  f1-score   support\n",
      "\n",
      "           0       1.00      0.93      0.97     67923\n",
      "           1       0.94      1.00      0.97     67922\n",
      "\n",
      "    accuracy                           0.97    135845\n",
      "   macro avg       0.97      0.97      0.97    135845\n",
      "weighted avg       0.97      0.97      0.97    135845\n",
      "\n"
     ]
    }
   ],
   "source": [
    "print(classification_report(y1_test, pred))"
   ]
  },
  {
   "cell_type": "markdown",
   "id": "356c5aa1",
   "metadata": {},
   "source": [
    "#### XGBoost"
   ]
  },
  {
   "cell_type": "code",
   "execution_count": 71,
   "id": "d77fa9f5",
   "metadata": {},
   "outputs": [
    {
     "data": {
      "text/plain": [
       "XGBClassifier(base_score=None, booster=None, callbacks=None,\n",
       "              colsample_bylevel=None, colsample_bynode=None,\n",
       "              colsample_bytree=None, early_stopping_rounds=None,\n",
       "              enable_categorical=False, eval_metric=None, feature_types=None,\n",
       "              gamma=None, gpu_id=None, grow_policy=None, importance_type=None,\n",
       "              interaction_constraints=None, learning_rate=None, max_bin=None,\n",
       "              max_cat_threshold=None, max_cat_to_onehot=None,\n",
       "              max_delta_step=None, max_depth=None, max_leaves=None,\n",
       "              min_child_weight=None, missing=nan, monotone_constraints=None,\n",
       "              n_estimators=300, n_jobs=None, num_parallel_tree=None,\n",
       "              predictor=None, random_state=42, ...)"
      ]
     },
     "execution_count": 71,
     "metadata": {},
     "output_type": "execute_result"
    }
   ],
   "source": [
    "xgboost = XGBClassifier(n_estimators=300, scale_pos_weight=25, random_state = 42)\n",
    "xgboost.fit(X1_train, y1_train)"
   ]
  },
  {
   "cell_type": "code",
   "execution_count": 72,
   "id": "b609be8b",
   "metadata": {},
   "outputs": [],
   "source": [
    "predx = xgboost.predict(X1_test)"
   ]
  },
  {
   "cell_type": "code",
   "execution_count": 73,
   "id": "f41649c6",
   "metadata": {},
   "outputs": [
    {
     "data": {
      "text/html": [
       "<div>\n",
       "<style scoped>\n",
       "    .dataframe tbody tr th:only-of-type {\n",
       "        vertical-align: middle;\n",
       "    }\n",
       "\n",
       "    .dataframe tbody tr th {\n",
       "        vertical-align: top;\n",
       "    }\n",
       "\n",
       "    .dataframe thead th {\n",
       "        text-align: right;\n",
       "    }\n",
       "</style>\n",
       "<table border=\"1\" class=\"dataframe\">\n",
       "  <thead>\n",
       "    <tr style=\"text-align: right;\">\n",
       "      <th></th>\n",
       "      <th>Pred: False</th>\n",
       "      <th>Pred: True</th>\n",
       "    </tr>\n",
       "  </thead>\n",
       "  <tbody>\n",
       "    <tr>\n",
       "      <th>Actual: False</th>\n",
       "      <td>65147</td>\n",
       "      <td>2776</td>\n",
       "    </tr>\n",
       "    <tr>\n",
       "      <th>Actual: True</th>\n",
       "      <td>14</td>\n",
       "      <td>67908</td>\n",
       "    </tr>\n",
       "  </tbody>\n",
       "</table>\n",
       "</div>"
      ],
      "text/plain": [
       "               Pred: False  Pred: True\n",
       "Actual: False        65147        2776\n",
       "Actual: True            14       67908"
      ]
     },
     "execution_count": 73,
     "metadata": {},
     "output_type": "execute_result"
    }
   ],
   "source": [
    "pd.DataFrame(confusion_matrix(y1_test, predx), \n",
    "             index = ['Actual: False', 'Actual: True'],\n",
    "             columns = ['Pred: False', 'Pred: True'])"
   ]
  },
  {
   "cell_type": "code",
   "execution_count": 74,
   "id": "3d4a0246",
   "metadata": {},
   "outputs": [
    {
     "name": "stdout",
     "output_type": "stream",
     "text": [
      "              precision    recall  f1-score   support\n",
      "\n",
      "           0       1.00      0.96      0.98     67923\n",
      "           1       0.96      1.00      0.98     67922\n",
      "\n",
      "    accuracy                           0.98    135845\n",
      "   macro avg       0.98      0.98      0.98    135845\n",
      "weighted avg       0.98      0.98      0.98    135845\n",
      "\n"
     ]
    }
   ],
   "source": [
    "print(classification_report(y1_test, predx))"
   ]
  },
  {
   "cell_type": "code",
   "execution_count": null,
   "id": "7d370494",
   "metadata": {},
   "outputs": [],
   "source": []
  },
  {
   "cell_type": "markdown",
   "id": "e3b4e8a4",
   "metadata": {},
   "source": [
    "### Saving Models"
   ]
  },
  {
   "cell_type": "code",
   "execution_count": 78,
   "id": "574197d1",
   "metadata": {},
   "outputs": [],
   "source": [
    "import pickle\n",
    "\n",
    "# create an iterator object with write permission - model.pkl\n",
    "with open('models/robust_rfc_pkl', 'wb') as files:\n",
    "    pickle.dump(rfc_tuned, files) #rfc tuned model"
   ]
  },
  {
   "cell_type": "code",
   "execution_count": 79,
   "id": "e0adedd0",
   "metadata": {},
   "outputs": [],
   "source": [
    "with open('models/robust_xgb_pkl', 'wb') as files:\n",
    "    pickle.dump(xgb, files) #xgb tuned model"
   ]
  },
  {
   "cell_type": "code",
   "execution_count": 80,
   "id": "607f5de0",
   "metadata": {},
   "outputs": [],
   "source": [
    "with open('models/rf_under_2_1_pkl', 'wb') as files:\n",
    "    pickle.dump(rfc2, files) #random forest undersampled 2:1"
   ]
  },
  {
   "cell_type": "code",
   "execution_count": 81,
   "id": "d7ba26ff",
   "metadata": {},
   "outputs": [],
   "source": [
    "with open('models/xgb_under_2_1_pkl', 'wb') as files:\n",
    "    pickle.dump(xgb2, files) #xg boost undersampled 2:1"
   ]
  },
  {
   "cell_type": "code",
   "execution_count": 82,
   "id": "f703a3f2",
   "metadata": {},
   "outputs": [],
   "source": [
    "with open('models/random_forest_pkl', 'wb') as files:\n",
    "    pickle.dump(random_forest, files) #random forest undersampled 1:1"
   ]
  },
  {
   "cell_type": "code",
   "execution_count": 83,
   "id": "3b0ab945",
   "metadata": {},
   "outputs": [],
   "source": [
    "with open('models/xgboost_pkl', 'wb') as files:\n",
    "    pickle.dump(xgboost, files) #xg boost undersampled 1:1"
   ]
  },
  {
   "cell_type": "code",
   "execution_count": null,
   "id": "2d69cf4b",
   "metadata": {},
   "outputs": [],
   "source": []
  }
 ],
 "metadata": {
  "kernelspec": {
   "display_name": "Python 3 (ipykernel)",
   "language": "python",
   "name": "python3"
  },
  "language_info": {
   "codemirror_mode": {
    "name": "ipython",
    "version": 3
   },
   "file_extension": ".py",
   "mimetype": "text/x-python",
   "name": "python",
   "nbconvert_exporter": "python",
   "pygments_lexer": "ipython3",
   "version": "3.9.7"
  }
 },
 "nbformat": 4,
 "nbformat_minor": 5
}
